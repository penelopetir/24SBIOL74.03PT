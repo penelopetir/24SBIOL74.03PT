{
  "cells": [
    {
      "cell_type": "markdown",
      "metadata": {
        "id": "view-in-github",
        "colab_type": "text"
      },
      "source": [
        "<a href=\"https://colab.research.google.com/github/penelopetir/24SBIOL74.03PT/blob/main/Exercise_7_HH_Simulations_II.ipynb\" target=\"_parent\"><img src=\"https://colab.research.google.com/assets/colab-badge.svg\" alt=\"Open In Colab\"/></a>"
      ]
    },
    {
      "cell_type": "markdown",
      "metadata": {
        "id": "tSawaquoIBf9"
      },
      "source": [
        "# BIOL 74.03 (SP23): Computational Modeling of the Nervous System\n",
        "# Exercise 7: Simulating the Hodgkin-Huxley model in NEURON - Part II\n",
        "\n",
        "### Exercise goals\n",
        "\n",
        "1) Understand the time course of conductances and gating variables during the action potential in the HH model\n",
        "\n",
        "2) Understand origin of absolute and relative refractory periods\n",
        "\n",
        "3) Analyze firing behavior of neurons with the HH model with step currents\n",
        "\n",
        "\n",
        "Work through the code below, running each cell, adding code where required, and making sure you understand the output. When you see questions with <font color='red'><b><i>Q:</b></i> </font> preceding them, write your responses in text cells.\n"
      ]
    },
    {
      "cell_type": "markdown",
      "metadata": {
        "id": "q5Vj2_8vV5c3"
      },
      "source": [
        "We'll first install neuron like last time"
      ]
    },
    {
      "cell_type": "code",
      "execution_count": 1,
      "metadata": {
        "id": "CWjyJrK8V5c3",
        "colab": {
          "base_uri": "https://localhost:8080/"
        },
        "outputId": "f14fa0b4-7284-4979-8a03-0452d46d703b"
      },
      "outputs": [
        {
          "output_type": "stream",
          "name": "stdout",
          "text": [
            "Collecting neuron\n",
            "  Downloading NEURON-8.2.4-cp310-cp310-manylinux_2_17_x86_64.manylinux2014_x86_64.whl (15.0 MB)\n",
            "\u001b[2K     \u001b[90m━━━━━━━━━━━━━━━━━━━━━━━━━━━━━━━━━━━━━━━━\u001b[0m \u001b[32m15.0/15.0 MB\u001b[0m \u001b[31m17.5 MB/s\u001b[0m eta \u001b[36m0:00:00\u001b[0m\n",
            "\u001b[?25hRequirement already satisfied: numpy>=1.9.3 in /usr/local/lib/python3.10/dist-packages (from neuron) (1.25.2)\n",
            "Requirement already satisfied: packaging in /usr/local/lib/python3.10/dist-packages (from neuron) (24.0)\n",
            "Collecting find-libpython (from neuron)\n",
            "  Downloading find_libpython-0.4.0-py3-none-any.whl (8.7 kB)\n",
            "Requirement already satisfied: setuptools in /usr/local/lib/python3.10/dist-packages (from neuron) (67.7.2)\n",
            "Installing collected packages: find-libpython, neuron\n",
            "Successfully installed find-libpython-0.4.0 neuron-8.2.4\n"
          ]
        }
      ],
      "source": [
        "%pip install neuron # only need to run this cell once to install\n",
        "                    # neuron in the local jupyter environment"
      ]
    },
    {
      "cell_type": "markdown",
      "metadata": {
        "id": "NDOFHqkbV5c4"
      },
      "source": [
        "Import the packages we'll be using"
      ]
    },
    {
      "cell_type": "code",
      "execution_count": 2,
      "metadata": {
        "id": "DDKsqm7dV5c4"
      },
      "outputs": [],
      "source": [
        "from neuron import h # all NEURON hoc functions are accessed through h\n",
        "# from neuron import gui # if you're running this notebook in a local environment (instead of on google colab), launches the GUI\n",
        "h.load_file('stdrun.hoc') # loads neuron standard hoc library, not always necessary\n",
        "import numpy as np\n",
        "import matplotlib.pyplot as plt\n",
        "import plotly\n",
        "from plotly.subplots import make_subplots\n",
        "import plotly.graph_objects as go\n",
        "if 'google.colab' in str(get_ipython()):\n",
        "    from google.colab import output\n",
        "    output.enable_custom_widget_manager() # allows for interactive plots\n",
        "else:\n",
        "  plotly.offline.init_notebook_mode()"
      ]
    },
    {
      "cell_type": "markdown",
      "metadata": {
        "id": "-RFNdYjkV5c5"
      },
      "source": [
        "## Ionic mechanisms of the HH action potential\n",
        "\n",
        "We'll start out with the same model we created in exercise 6 of a space clamped axon with the Hodgkin-Huxley sodium, potassium, and leak conductances:\n",
        "\n",
        "For our geometry, we'll again use a diameter of $500 \\; \\mu m$ and length of $100 \\; \\mu m$. Since the axon is space clamped, we can set `nseg` (the number of segments) to 1. Then, we just insert our biophysical mechanisms, which is the built in `hh` model in this case. Inserting the `hh` model adds all three conductances from the HH model: `gNa` for sodium conductance, `gK` for potassium conductance, and `gl` for the passive leak conductance (all in $S/cm^{2}$). Finally, we set up recording and simulation instrumentation. We'll use a current clamp so we can inject current and allow the voltage to evolve and generate action potentials (APs). And this time, we'll record all the underlying state variables of the model to better understand the underlying mechanism of the AP.\n",
        "\n",
        "Fill in the missing code below based on the instructions above."
      ]
    },
    {
      "cell_type": "code",
      "execution_count": 3,
      "metadata": {
        "id": "JSdD7DyZV5c5"
      },
      "outputs": [],
      "source": [
        "# Recreate axon\n",
        "axon = None # Delete old sections\n",
        "for sec in h.allsec():\n",
        "    h.delete_section(sec=sec)\n",
        "\n",
        "axon = h.Section(name='axon')\n",
        "# Model geometry\n",
        "axon.diam = 500  # diameter in microns\n",
        "axon.L = 100 # length in microns\n",
        "axon.nseg = 1 # sets number of segments\n",
        "# Model biophysics\n",
        "axon.insert('hh')\n",
        "# Model instrumentation\n",
        "# Stimulation\n",
        "iclamp = h.IClamp(axon(0.5)) # add\n",
        "# Recordings\n",
        "t_vec = h.Vector().record(h._ref_t) # time vector\n",
        "V_vec = h.Vector().record(axon(0.5)._ref_v) # intracellular voltage (same as membrane potential in our case)\n",
        "# ** Currents **\n",
        "Iclamp_vec = h.Vector().record(iclamp._ref_i) # current clamp current (nA)\n",
        "Ina_vec = h.Vector().record(axon(0.5)._ref_ina) # sodium current (mA/cm2)\n",
        "Ik_vec = h.Vector().record(axon(0.5)._ref_ik) # potassium current (mA/cm2)\n",
        "# ** Conductances **\n",
        "# note the 'hh' suffix, required by neuron to specify which mechanism this conductance belongs to\n",
        "gna_vec = h.Vector().record(axon(0.5)._ref_gna_hh)  # sodium conductance (S/cm2)\n",
        "gk_vec = h.Vector().record(axon(0.5)._ref_gk_hh) # potassium conductance (S/cm2)\n",
        "# ** Gating variables **\n",
        "n_vec = h.Vector().record(axon(0.5)._ref_n_hh) # potassium activation gate (0-1)\n",
        "m_vec = h.Vector().record(axon(0.5)._ref_m_hh)  # sodium activation gate\n",
        "h_vec = h.Vector().record(axon(0.5)._ref_h_hh) # sodium inactivation gate"
      ]
    },
    {
      "cell_type": "markdown",
      "metadata": {
        "id": "dfyGpoeWV5c5"
      },
      "source": [
        "Now to run our simulation, we need to choose our initial condition and simulation settings.\n",
        "We'll first simulate an action potential due to a brief current pulse. Use an initial voltage (`h.v_init`) of $-65 \\; mV$, time step of $0.0125 \\; ms$, temperature (`h.celsius`) of $6.3^{\\circ} C$, and duration (`h.tstop`) of $8 \\; ms$.\n",
        "\n",
        "Since we didn't set it above, we also need to specify our current stimulus. Use a $2 \\; ms$ current pulse that starts at $1 \\; ms$ and has an amplitude of $20 \\; nA$.\n",
        "\n",
        "Start by plotting the membrane potential $V_{m}$ vs. time using whatever plotting package you prefer (`matplotlib` may be easiest, you can copy the format used in previous exercises)."
      ]
    },
    {
      "cell_type": "code",
      "execution_count": 9,
      "metadata": {
        "id": "WI5RNTNBV5c6",
        "colab": {
          "base_uri": "https://localhost:8080/",
          "height": 448
        },
        "outputId": "e82ffd36-8f1b-4521-87d8-a283af2a57ae"
      },
      "outputs": [
        {
          "output_type": "execute_result",
          "data": {
            "text/plain": [
              "[<matplotlib.lines.Line2D at 0x7dc110610cd0>]"
            ]
          },
          "metadata": {},
          "execution_count": 9
        },
        {
          "output_type": "display_data",
          "data": {
            "text/plain": [
              "<Figure size 640x480 with 1 Axes>"
            ],
            "image/png": "[encoded data removed]"
          },
          "metadata": {}
        }
      ],
      "source": [
        "# Current clamp settings\n",
        "iclamp.delay = 1 # ms\n",
        "iclamp.dur = 2 # ms\n",
        "iclamp.amp = 20 # nA\n",
        "\n",
        "# Simulation settings\n",
        "h.v_init =  -65 # mV - initial voltage of the model system\n",
        "h.dt = 0.0125 # ms - time step\n",
        "h.celsius = 6.3 # degrees celsius - temperature of simulation, set to room temperature\n",
        "h.tstop = 8 # ms - simulation duration\n",
        "\n",
        "# Run\n",
        "h.run()\n",
        "\n",
        "# Your plotting code goes here\n",
        "fig = plt.figure()\n",
        "# voltage\n",
        "plt.plot(t_vec,V_vec)\n",
        "plt.ylabel(\"Voltage (mV)\")\n",
        "plt.xlabel(\"Time (ms)\")"
      ]
    },
    {
      "cell_type": "markdown",
      "metadata": {
        "id": "Oo_PRjxBV5c6"
      },
      "source": [
        "You should see an action potential.\n",
        "\n",
        "<font color='red'><b><i>Q1:</b></i> Approximately what voltage does the AP reach at its upper and lower extremes? What parameters do you think control these values?</font>"
      ]
    },
    {
      "cell_type": "code",
      "source": [
        "print(f\"Max voltage = {np.max(np.array(V_vec)):.2f}mV and Min Voltage = {np.min(np.array(V_vec)):.2f}mV\")"
      ],
      "metadata": {
        "colab": {
          "base_uri": "https://localhost:8080/"
        },
        "id": "xRo4wG98bUP3",
        "outputId": "4ce74288-3c0d-4bcf-9c58-b8842a6931a5"
      },
      "execution_count": 13,
      "outputs": [
        {
          "output_type": "stream",
          "name": "stdout",
          "text": [
            "Max voltage = 40.39mV and Min Voltage = -76.17mV\n"
          ]
        }
      ]
    },
    {
      "cell_type": "markdown",
      "metadata": {
        "id": "lXQz-iJ7V5c6"
      },
      "source": [
        "Above I have a line that gets the maximum and minimun voltages, around 40mV and -76mV respectively. The parameters that I think control these values the most are the gating variables. The opening of the sodium channels causes depolarization (up to the maximum value) and the opening of potassium channels causes repolarization/hyperpolarization (the minimum). Since we are recording voltage, we are clamping current and so the conductances (which would determine how much of each ion can flow) aren't as relevant as how long the channels are open for (the gating variables, again)."
      ]
    },
    {
      "cell_type": "markdown",
      "metadata": {
        "id": "3BpC7mi_V5c6"
      },
      "source": [
        "Let's first look at how the ionic currents vary during the action potential. We'll focus on the main culprits, the sodium and potassium currents for now and ignore the leak current since it wouldn't change the story much anyway. Run the code block below to instantiate a function to plot the voltage with the sodium and potassium currents overlaid on a second set of axes."
      ]
    },
    {
      "cell_type": "code",
      "execution_count": null,
      "metadata": {
        "id": "2elemRkMV5c6"
      },
      "outputs": [],
      "source": [
        "def plotV_and_Is(t_vec,V_vec,Ina_vec,Ik_vec,title=None):\n",
        "    # t_vec - time vector (can be NEURON Vector or numpy array) (ms)\n",
        "    # V_vec - membrane potential vector (can be NEURON Vector or numpy array) (mV)\n",
        "    # Ina_vec - sodium current density vector (can be NEURON Vector or numpy array) (mA/cm2)\n",
        "    # Ik_vec - potassium current density vector (can be NEURON Vector or numpy array) (mA/cm2)\n",
        "\n",
        "    Iion_vec = Ina_vec + Ik_vec # ionic current (excluding leak)\n",
        "    fig = make_subplots(specs=[[{\"secondary_y\": True}]])\n",
        "    fig.add_trace(go.Scatter(x=t_vec,y=V_vec,name='Vm',line=dict(color='rgb(0,0,0)')),secondary_y = False)\n",
        "    fig.update_layout(yaxis = dict(range=[-80,50]))\n",
        "    fig.add_trace(go.Scatter(x=t_vec,y=Iion_vec,name='Ina+Ik'),secondary_y = True)\n",
        "    fig.add_trace(go.Scatter(x=t_vec,y=Ina_vec,name='Ina'),secondary_y = True)\n",
        "    fig.add_trace(go.Scatter(x=t_vec,y=Ik_vec,name='Ik'),secondary_y = True)\n",
        "    fig['layout']['xaxis']['title']='time (ms)'\n",
        "    fig.update_yaxes(title_text=\"Vm (mV)\", secondary_y=False)\n",
        "    fig.update_yaxes(title_text=\"Current density (mA/cm2)\", secondary_y=True)\n",
        "    if title is not None:\n",
        "        fig.update_layout(title=title)\n",
        "    fig.show()"
      ]
    },
    {
      "cell_type": "markdown",
      "metadata": {
        "id": "H93eZlVTV5c6"
      },
      "source": [
        "Using `plotV_and_Is`, plot the action potential with the ionic currents overlaid. Make sure to specify the current clamp and simulation settings below (can copy and paste from above) so you can change settings, re-run the simulation, and replot in a single code cell."
      ]
    },
    {
      "cell_type": "code",
      "execution_count": null,
      "metadata": {
        "id": "SqDrDKwMV5c6"
      },
      "outputs": [],
      "source": [
        "# Current clamp settings\n",
        "\n",
        "\n",
        "# Simulation settings\n",
        "\n",
        "\n",
        "# Run\n",
        "\n",
        "\n",
        "# Call plotV_and_Is here\n"
      ]
    },
    {
      "cell_type": "markdown",
      "metadata": {
        "id": "rAxDGfXRV5c6"
      },
      "source": [
        "<font color='red'><b><i>Q2:</b></i>  Describe how the sodium and potassium currents evolve during the action potential. In your answer, you should discuss how the direction of each current is linked to its effect on the voltage (depolarizing or repolarizing).\n",
        "</font>"
      ]
    },
    {
      "cell_type": "markdown",
      "metadata": {
        "id": "0TNrF3SWV5c6"
      },
      "source": []
    },
    {
      "cell_type": "markdown",
      "metadata": {
        "id": "x34QL250V5c6"
      },
      "source": [
        "<font color='red'><b><i>Q3:</b></i>  What happens to the net current just before the AP initiates? (hint: zoom in on the current traces before the AP)\n",
        "</font>"
      ]
    },
    {
      "cell_type": "markdown",
      "metadata": {
        "id": "-DOm2XYcV5c7"
      },
      "source": []
    },
    {
      "cell_type": "markdown",
      "metadata": {
        "id": "vO-YkniCV5c7"
      },
      "source": [
        "Now, let's look at how the conductances vary during the action potential. Run the code block below to instantiate a function that will generate an interactive plot overlaying the voltage, total conductance, sodium conductance, and potassium conductance. As input, it takes the time vector `t_vec`, membrane potential vector `V_vec`, sodium conductance vector `gna_vec`, potassium conductance vector `gk_vec`, and the value of the leak conductance `gl_val`, which can be obtained with `axon(0.5).gl_hh`."
      ]
    },
    {
      "cell_type": "code",
      "execution_count": null,
      "metadata": {
        "id": "ISa15Y0pV5c7"
      },
      "outputs": [],
      "source": [
        "def plotV_and_gs(t_vec,V_vec,gna_vec,gk_vec,gl_val,title=None):\n",
        "    # t_vec - time vector (can be NEURON Vector or numpy array) (ms)\n",
        "    # V_vec - membrane potential vector (can be NEURON Vector or numpy array) (mV)\n",
        "    # gna_vec - sodium conductance vector (expects NEURON Vector) (S/cm2)\n",
        "    # gk_vec - potassium conductance vector (expects NEURON Vector) (S/cm2)\n",
        "    # gl_val - value of leak conductance (S/cm2)\n",
        "    gna_vec = gna_vec.to_python(np.zeros(len(gna_vec)))\n",
        "    gk_vec = gk_vec.to_python(np.zeros(len(gk_vec)))\n",
        "    g_vec = (gna_vec + gk_vec + gl_val)\n",
        "    fig = make_subplots(specs=[[{\"secondary_y\": True}]])\n",
        "    fig.add_trace(go.Scatter(x=t_vec,y=V_vec,name='Vm',line=dict(color='rgb(0,0,0)')),secondary_y = False)\n",
        "    fig.update_layout(yaxis = dict(range=[-80,50]))\n",
        "    fig.add_trace(go.Scatter(x=t_vec,y=g_vec,name='g/gmax'),secondary_y = True)\n",
        "    fig.add_trace(go.Scatter(x=t_vec,y=gna_vec,name='gNa/gNa_max'),secondary_y = True)\n",
        "    fig.add_trace(go.Scatter(x=t_vec,y=gk_vec,name='gK/gK_max'),secondary_y = True)\n",
        "    fig['layout']['xaxis']['title']='time (ms)'\n",
        "    fig.update_yaxes(title_text=\"Vm (mV)\", secondary_y=False)\n",
        "    fig.update_yaxes(title_text=\"g (normalized to max)\", secondary_y=True)\n",
        "    fig.show()\n",
        "    if title is not None:\n",
        "        fig.update_layout(title=title)"
      ]
    },
    {
      "cell_type": "markdown",
      "metadata": {
        "id": "CBYklTM4V5c7"
      },
      "source": [
        "<font color='red'><b><i>Q4:</b></i> After inspecting the function, what was the leak conductance used for? And, why did we not record a vector of leak conductance over time? </font>"
      ]
    },
    {
      "cell_type": "markdown",
      "metadata": {
        "id": "-9vii3tzV5c7"
      },
      "source": []
    },
    {
      "cell_type": "markdown",
      "metadata": {
        "id": "4vIL18VkV5c7"
      },
      "source": [
        "Below, use `plotV_and_gs` to plot the action potential with the conductances now overlaid. Use the same simulation parameters as above."
      ]
    },
    {
      "cell_type": "code",
      "execution_count": null,
      "metadata": {
        "id": "VKM_SIfvV5c7"
      },
      "outputs": [],
      "source": [
        "# Current clamp settings\n",
        "\n",
        "# Simulation settings\n",
        "\n",
        "# Run\n",
        "h.run()\n",
        "\n",
        "# Add function arguments to plotV_and_gs\n",
        "plotV_and_gs();"
      ]
    },
    {
      "cell_type": "markdown",
      "metadata": {
        "id": "92dlYL0tV5c7"
      },
      "source": [
        "Hopefully you see something like what we showed in class! The sodium conductance rises rapidly and starts to shut off (inactivate) near the peak of the action potential. Meanwhile the potassium conductance rises more slowly and doesn't start to decay until the membrane potential is almost back to its resting value.\n",
        "\n",
        "Finally, let's see how the gating variables evolve during the action potential. Run the code cell below to instantiate the `plotV_and_gates` function, which plots the potassium activation gate $n$, sodium activation gate $m$, and sodium inactivation gate $h$ overlaid with the action potential."
      ]
    },
    {
      "cell_type": "code",
      "execution_count": null,
      "metadata": {
        "id": "P3cU1aM7V5c7"
      },
      "outputs": [],
      "source": [
        "def plotV_and_gates(t_vec,V_vec,n_vec,m_vec,h_vec,title=None):\n",
        "    # t_vec - time vector (can be NEURON Vector or numpy array) (ms)\n",
        "    # V_vec - membrane potential vector (can be NEURON Vector or numpy array) (mV)\n",
        "    # n_vec - potassium activation gating variable (can be NEURON Vector or numpy array)\n",
        "    # m_vec - sodium activation gating variable (can be NEURON Vector or numpy array)\n",
        "    # h_vec - sodium inactivation gating variable (can be NEURON Vector or numpy array)\n",
        "\n",
        "    fig = make_subplots(specs=[[{\"secondary_y\": True}]])\n",
        "    fig.add_trace(go.Scatter(x=t_vec,y=V_vec,name='Vm',line=dict(color='rgb(0,0,0)')),secondary_y = False)\n",
        "    fig.update_layout(yaxis = dict(range=[-80,50]))\n",
        "    fig.add_trace(go.Scatter(x=t_vec,y=n_vec,name='n'),secondary_y = True)\n",
        "    fig.add_trace(go.Scatter(x=t_vec,y=m_vec,name='m'),secondary_y = True)\n",
        "    fig.add_trace(go.Scatter(x=t_vec,y=h_vec,name='h'),secondary_y = True)\n",
        "    fig['layout']['xaxis']['title']='time (ms)'\n",
        "    fig.update_yaxes(title_text=\"Vm (mV)\", secondary_y=False)\n",
        "    fig.update_yaxes(title_text=\"State\", secondary_y=True)\n",
        "    fig.update_layout(yaxis2 = dict(range=[0,1]))\n",
        "    if title is not None:\n",
        "        fig.update_layout(title=title)\n",
        "    fig.show()"
      ]
    },
    {
      "cell_type": "markdown",
      "metadata": {
        "id": "aoP2gVRGV5c7"
      },
      "source": [
        "Below, use `plotV_and_gates` to plot the action potential with the gating variables now overlaid. Use the same simulation parameters as above."
      ]
    },
    {
      "cell_type": "code",
      "execution_count": null,
      "metadata": {
        "id": "eCjIQaSDV5c7"
      },
      "outputs": [],
      "source": [
        "# Current clamp settings\n",
        "\n",
        "\n",
        "# Simulation settings\n",
        "\n",
        "# Run\n",
        "h.run()\n",
        "\n"
      ]
    },
    {
      "cell_type": "markdown",
      "metadata": {
        "id": "lSCURpGNV5c8"
      },
      "source": [
        "<font color='red'><b><i>Q5:</b></i> Describe how the n, m, and h gates evolve, starting from when the axon is at rest, through the depolarization by the current pulse, and during the rising, falling, and after potential phases. Make sure to mention how these variables relate to the sodium and potassium conductances (see lecture slides if necessary)</font>"
      ]
    },
    {
      "cell_type": "markdown",
      "metadata": {
        "id": "bnOcrOFTV5c8"
      },
      "source": []
    },
    {
      "cell_type": "markdown",
      "metadata": {
        "id": "SkGWdPq0V5c8"
      },
      "source": [
        "Now let's try manipulating the conductances and seeing how it affects the action potential.\n",
        "\n",
        "Tetrodotoxin (TTX) is a toxin naturally produced by the pufferfish that selectively blocks voltage-gated sodium channels. Simulate the addition of TTX by setting `gnabar_hh` to 0 and plot using your `plotV_and_gates` function to see how the gating variables are affected."
      ]
    },
    {
      "cell_type": "code",
      "execution_count": null,
      "metadata": {
        "id": "m-Ue2rKXV5c8"
      },
      "outputs": [],
      "source": [
        "# Current clamp settings\n",
        "\n",
        "# Simulation settings\n",
        "\n",
        "gnabar_hh_init = 0.12 # initial value of peak sodium conductance\n",
        "# Alter peak sodium conductance here\n",
        "\n",
        "\n",
        "# Run\n",
        "h.run()\n",
        "\n",
        "plotV_and_gates(t_vec,V_vec,n_vec,m_vec,h_vec);\n",
        "\n",
        "# reset peak sodium conductance here\n"
      ]
    },
    {
      "cell_type": "markdown",
      "metadata": {
        "id": "Lx8VKsZjV5c8"
      },
      "source": [
        "<font color='red'><b><i>Q6:</b></i> Did the axon fire an action potential? Why or why not? If you're stuck, it may help to use the earlier functions to plot the conductances and currents overlaid with the AP as well. </font>"
      ]
    },
    {
      "cell_type": "markdown",
      "metadata": {
        "id": "OhaeRedKV5c8"
      },
      "source": []
    },
    {
      "cell_type": "markdown",
      "metadata": {
        "id": "S9cr-u9IV5c8"
      },
      "source": [
        "Tetraethylammonium (TEA) selectively blocks voltage-gated potassium channels. Simulate the addition of TEA by setting `gkbar_hh` to 0 and replot the AP with the gating variables overlaid using `plotV_and_gates`. Make sure your simulation's duration (`h.tstop`) is long enough to capture the full action potential."
      ]
    },
    {
      "cell_type": "code",
      "execution_count": null,
      "metadata": {
        "id": "HO-rOLecV5c8"
      },
      "outputs": [],
      "source": [
        "# Current clamp settings\n",
        "\n",
        "\n",
        "# Simulation settings\n",
        "\n",
        "gkbar_hh_init = 0.036 # initial value of peak sodium conductance\n",
        "# Alter peak potassium conductance here\n",
        "\n",
        "# Run\n",
        "h.run()\n",
        "\n",
        "plotV_and_gates(t_vec,V_vec,n_vec,m_vec,h_vec)\n",
        "\n",
        "# reset peak potassium conductance here\n"
      ]
    },
    {
      "cell_type": "markdown",
      "metadata": {
        "id": "hKzKz9jOV5c8"
      },
      "source": [
        "<font color='red'><b><i>Q7:</b></i> What happens to the action potential shape? Explain why this occurs, making reference to the conductances and currents. </font>"
      ]
    },
    {
      "cell_type": "markdown",
      "metadata": {
        "id": "q_cRNY0kV5c8"
      },
      "source": []
    },
    {
      "cell_type": "markdown",
      "metadata": {
        "id": "YTInoMfZV5dB"
      },
      "source": [
        "<font color='red'><b><i>Q8:</b></i> What happens when you turn the current clamp amplitude (`iclamp.amp`) to zero? </font>"
      ]
    },
    {
      "cell_type": "markdown",
      "metadata": {
        "id": "4-NkMKViV5dB"
      },
      "source": []
    },
    {
      "cell_type": "markdown",
      "metadata": {
        "id": "2TAq6BM4V5dB"
      },
      "source": [
        "At this point, we've taken a close look at the different components of the Hodgkin-Huxley model for a single action potential, including the ionic currents, conductances, and the gating variables for the voltage-gated sodium and potassium ion channels. Hopefully you can appreciate the complexity of the model and richness of dynamics, which we've only sampled a bit here.\n",
        "\n",
        "Next, we'll take a look at some of the key phenomena predicted by the Hodgkin-Huxley model."
      ]
    },
    {
      "cell_type": "markdown",
      "metadata": {
        "id": "w4shSY_LV5dB"
      },
      "source": [
        "## Understanding the absolute and relative refractory period\n",
        "\n",
        "As you may recall from the [leaky integrate and fire neuron exercise](https://github.com/CompModNervSystem/CompModNervSys-LIFneuron), after firing an action potential, neurons enter a *refractory period*. This refers to a period in which it becomes difficult to evoke additional action potentials. The existence of the refractory period limits the number of action potentials a neuron can fire in a given time period (the firing rate). In the LIF model, we set the refractory period explicitly. But in the Hodgkin-Huxley model, the refractory period emerges from the dynamics of the ion channel conductances, one of the many impressively accurate predictions of this model.\n",
        "\n",
        "After an action potential, the refractory period can actually be broken into two periods, an *absolute refractory period* in which no stimulus of any magnitude can evoke a second action potential, and a *relative refractory period*, in which a stimulus of a larger magnitude is required to evoke a second action potential.\n",
        "\n",
        "Below, we'll measure these refractory periods and understand how they relate to the voltage-gated sodium channel's dynamics.\n",
        "\n"
      ]
    },
    {
      "cell_type": "markdown",
      "metadata": {
        "id": "dpAw-8K0V5dB"
      },
      "source": [
        "We'll start by recreating the same model, in case any of the code blocks above were changed without reverting the axon back to its original parameters. This time, we'll create a second current clamp (`iclamp2`) so we can deliver two stimuli in succession."
      ]
    },
    {
      "cell_type": "code",
      "execution_count": null,
      "metadata": {
        "id": "T3V-47rnV5dB"
      },
      "outputs": [],
      "source": [
        "# Recreate axon\n",
        "axon = None # Delete old sections\n",
        "for sec in h.allsec():\n",
        "    h.delete_section(sec=sec)\n",
        "\n",
        "axon = h.Section(name='axon')\n",
        "# Model geometry\n",
        "axon.diam = 500 # diameter in microns\n",
        "axon.L = 100 # length in microns\n",
        "axon.nseg = 1 # sets number of segments to 1\n",
        "# Model biophysics\n",
        "axon.insert('hh')\n",
        "# Model instrumentstion\n",
        "# Stimulation\n",
        "iclamp = h.IClamp(axon(0.5)) # add\n",
        "iclamp2 = h.IClamp(axon(0.5)) # add second current clamp\n",
        "# Recordings\n",
        "t_vec = h.Vector().record(h._ref_t) # time vector\n",
        "V_vec = h.Vector().record(axon(0.5)._ref_v) # intracellular voltage (same as membrane potential in our case)\n",
        "# ** Currents **\n",
        "Iclamp_vec = h.Vector().record(iclamp._ref_i) # current clamp current (nA)\n",
        "Ina_vec = h.Vector().record(axon(0.5)._ref_ina) # sodium current (mA/cm2)\n",
        "Ik_vec = h.Vector().record(axon(0.5)._ref_ik) # potassium current (mA/cm2)\n",
        "# ** Conductances **\n",
        "# note the 'hh' suffix, required by neuron to specify which mechanism this conductance belongs to\n",
        "gna_vec = h.Vector().record(axon(0.5)._ref_gna_hh)  # sodium conductance (S/cm2)\n",
        "gk_vec = h.Vector().record(axon(0.5)._ref_gk_hh) # potassium conductance (S/cm2)\n",
        "# ** Gating variables **\n",
        "n_vec = h.Vector().record(axon(0.5)._ref_n_hh) # potassium activation gate (0-1)\n",
        "m_vec = h.Vector().record(axon(0.5)._ref_m_hh)  # sodium activation gate\n",
        "h_vec = h.Vector().record(axon(0.5)._ref_h_hh) # sodium inactivation gate"
      ]
    },
    {
      "cell_type": "markdown",
      "metadata": {
        "id": "U6Y_uqUiV5dC"
      },
      "source": [
        "For the first current clamp, apply a $1 \\; ms$ pulse starting at $2 \\; ms$ with a $20 \\; nA$ amplitude. For the second current clamp, apply pulse starting at $20 \\; ms$  with the same duration and amplitude. Plot using whichever one of the plotting functions we wrote above that you find helpful to answer the questions below. Make sure your simulation duration (`h.tstop`) is long enough to capture the response to both pulses."
      ]
    },
    {
      "cell_type": "code",
      "execution_count": null,
      "metadata": {
        "id": "JJsJ5A3yV5dC"
      },
      "outputs": [],
      "source": [
        "# Current clamp settings\n",
        "iclamp.delay =  # ms\n",
        "iclamp.dur =  # ms\n",
        "iclamp.amp =  # nA\n",
        "\n",
        "iclamp2.delay =  # ms\n",
        "iclamp2.dur =  # ms\n",
        "iclamp2.amp =  # nA\n",
        "\n",
        "# Simulation settings\n",
        "h.v_init = -65 # mV - initial voltage of the model system\n",
        "h.dt = 0.0125  # ms - time step\n",
        "h.celsius = 6.3 # degrees celsius - temperature of simulation, set to room temperature\n",
        "h.tstop =  # ms - simulation duration\n",
        "\n",
        "# Run\n",
        "h.run()\n",
        "\n",
        "# Plot\n",
        "# Add plotting function here\n"
      ]
    },
    {
      "cell_type": "markdown",
      "metadata": {
        "id": "z7oAlpe8V5dC"
      },
      "source": [
        "You should see two action potentials. Let's make sure we understand what we see.\n",
        "\n",
        "<font color='red'><b><i>Q9:</b></i> What happens to the membrane potential $V_{m}$ and the $h$ gating variable between the end of the first action potential and the start of the second?</font>"
      ]
    },
    {
      "cell_type": "markdown",
      "metadata": {
        "id": "2R8B7ligV5dC"
      },
      "source": []
    },
    {
      "cell_type": "markdown",
      "metadata": {
        "id": "LPOYaRypV5dC"
      },
      "source": [
        "Now, we'd like to know how the minimum strength necessary to elicit an action potential (*current threshold*) varies as we change the interval between the two pulses, also known as the *interstimulus interval* (ISI).\n",
        "\n",
        "To do this, we'll need two additional tools. First, we need a way of determining if an action potential occurred. And second, we need a way of automatically varying the stimulus amplitude to find the threshold (i.e. minimum stimulus amplitude to elicit an action potential). We could of course do this by hand, modifying the amplitude, replotting, deciding if an action potential happened or not until we're satisfied we found the threshold. Then we'd jot it down and repeat for every ISI. That sounds like torture to me, so let's not do that.\n",
        "\n",
        "Luckily, NEURON has a built in way of detecting thresholds, which we can define as the time at which the voltage crosses some value, say $0 \\; mV$, in the positive direction. Part of the definition of an action potential is that it propagates along an axon, but since we only have a single compartment here, we have no propagation, making this a bit ambiguous. So instead, we'll just stick with the first, simple criteria. We'll use an object in NEURON called a `NetCon` (documentation [here](https://www.neuron.yale.edu/neuron/static/py_doc/modelspec/programmatic/network/netcon.html#NetCon)). This object is normally used to connect two neurons in a network by monitoring the first neuron so that when it fires, we send a signal to the second neuron to simulate a synaptic input. Another use for it is to just monitor one neuron's membrane potential and keep track of everytime it fired. We can record the spike times with another NEURON `Vector`."
      ]
    },
    {
      "cell_type": "code",
      "execution_count": null,
      "metadata": {
        "id": "9SIH7SmLV5dC"
      },
      "outputs": [],
      "source": [
        "netcon = h.NetCon(axon(0.5)._ref_v,None,sec=axon) # Use NetCon to monitor axon voltage\n",
        "netcon.threshold = 0 # set threshold to detect AP\n",
        "# Record spike times\n",
        "spike_times = h.Vector()\n",
        "netcon.record(spike_times) # pass the spiketimes vector to the record method of the netcon object we just created"
      ]
    },
    {
      "cell_type": "markdown",
      "metadata": {
        "id": "Tv2eW1rrV5dC"
      },
      "source": [
        "Let's test that this is working by adding a point everytime we're supposed to have a spike time. (Don't forget to run the cell above). Try adjusting the delay of the second iclamp to make sure the spike time points show up where we expect.  "
      ]
    },
    {
      "cell_type": "code",
      "execution_count": null,
      "metadata": {
        "id": "ezzTQ8b0V5dC"
      },
      "outputs": [],
      "source": [
        "# Current clamp settings\n",
        "iclamp.delay = 1 # ms\n",
        "iclamp.dur = 1 # ms\n",
        "iclamp.amp = 20 # nA\n",
        "\n",
        "iclamp2.delay = 20 # ms\n",
        "iclamp2.dur = 1 # ms\n",
        "iclamp2.amp = 20 # nA\n",
        "\n",
        "# Simulation settings\n",
        "h.v_init = -65 # mV - initial voltage of the model system\n",
        "h.dt = 0.0125  # ms - time step\n",
        "h.celsius = 6.3 # degrees celsius - temperature of simulation, set to room temperature\n",
        "h.tstop = 40 # ms - simulation duration\n",
        "\n",
        "# Run\n",
        "h.run()\n",
        "\n",
        "# Plot\n",
        "fig = make_subplots(specs=[[{\"secondary_y\": True}]])\n",
        "fig.add_trace(go.Scatter(x=t_vec,y=V_vec,name='Vm',line=dict(color='rgb(0,0,0)')),secondary_y = False)\n",
        "fig['layout']['xaxis']['title']='time (ms)'\n",
        "fig.update_yaxes(title_text=\"Vm (mV)\", secondary_y=False)\n",
        "fig.add_trace(go.Scatter(x=spike_times,y=50*np.ones(len(spike_times)),\n",
        "                         name='Spike times',mode='markers',marker=go.scatter.Marker(color='red')),secondary_y = False)"
      ]
    },
    {
      "cell_type": "markdown",
      "metadata": {
        "id": "1ZmowoWbV5dC"
      },
      "source": [
        "Nice, now we have a method of detecting APs. Next, we need a function to find the threshold stimulus intensity to elicit an AP.\n",
        "\n",
        "We can do this by adapting a search algorithm commonly used in computer science/engineering called the *binary search algorithm* (also referred to as the *bisection method* by some). Here are the steps:\n",
        "1) Define an interval, in our case, the minimum ($I_{min}$) and maximum ($I_{max}$) possible current amplitude we think our threshold falls between.\n",
        "2) Check a value (stimulate with an intensity $I$) halfway between the window limits.\n",
        "3) If we're above threshold (the cell fired an AP), define this amplitude $I$ as the new upper range of our search window ($I_{max} = I$), keeping the previous lower range of the window. In contrast, if we're below threshold (the cell does not fire), we define this amplitude as the lower range of our search window ($I_{min} = I$).\n",
        "4) Repeat step 2 by stimulating at the intensity halfway between the new window ($\\frac{I_{min} + I_{max}}{2}$).\n",
        "5) Repeat this procedure (steps 2–4) until our window is smaller than some stopping criteria we decide. In this case, let's use the relative size of our window range, e.g. 2% difference between the max and min intensity.\n",
        "\n",
        "\n",
        "The `find_threshold` function below implements this for you. It relies on one additional function, `ap_fired`, which runs a simulation and returns a 1 if the requested number of APs occurred (which allows us to require 2 action potentials for our scenario), or a 0 otherwise. Run the code cell below to instantiate these functions."
      ]
    },
    {
      "cell_type": "code",
      "execution_count": null,
      "metadata": {
        "id": "VaxuyEjuV5dC"
      },
      "outputs": [],
      "source": [
        "import timeit # used to avoid infinite loop below\n",
        "\n",
        "def ap_fired(spike_times,num_aps=0):\n",
        "    # takes as input spike_times vector and num_amps\n",
        "    # default value of num_aps is 0, otherwise allows setting to different value\n",
        "    h.run()\n",
        "    return len(spike_times) > num_aps\n",
        "\n",
        "def find_threshold(iclamp,spike_times,num_aps=0,low=0.1,high=300,thresh_err=0.02,max_time=30,print_out=False):\n",
        "    # iclamp - Current clamp object to vary amplitude of\n",
        "    # spike_times - NEURON Vector of spike times\n",
        "    # num_aps - Number of APs to require to consider above threshold\n",
        "    # low - starting lower bound of earch\n",
        "    # high - starting upper bound of earch\n",
        "    # thresh_err - criteria to end search, relative window size (high-low)/low\n",
        "    # print_out - True or False, use for troubleshooting, prints out status during search\n",
        "    start_time = timeit.default_timer()\n",
        "\n",
        "    # fig = make_subplots(specs=[[{\"secondary_y\": True}]])    # for troubleshooting\n",
        "    # fig['layout']['xaxis']['title']='time (ms)'\n",
        "    # fig.update_yaxes(title_text=\"Vm (mV)\", secondary_y=False)\n",
        "\n",
        "    if iclamp.amp == 0:\n",
        "        iclamp.amp = 1 # make sure > 0\n",
        "    # First course search\n",
        "    while ((low == 0.1 or high == 300) and (timeit.default_timer() - start_time < max_time)):\n",
        "        if (ap_fired(spike_times,num_aps)):\n",
        "            high = iclamp.amp\n",
        "            iclamp.amp = high/2\n",
        "        else:\n",
        "            low = iclamp.amp\n",
        "            iclamp.amp = 2*low\n",
        "        if print_out:\n",
        "            print('Coarse: Amp = {}, high = {}, low = {}'.format(iclamp.amp,high,low))\n",
        "        if (low > high):\n",
        "            print('Search terminated early, threshold above upper limit {} nA'.format(high))\n",
        "            return high\n",
        "    # At this point, high value is not more than 2 x the threshold and low is not less than half the threshold\n",
        "    # Finer search, narrow bounds of threshold window\n",
        "    while ( abs(high/low - 1) > thresh_err ):\n",
        "        if print_out:\n",
        "            print('Window size = {} %%'.format(100*abs(high/low - 1)))\n",
        "        if (ap_fired(spike_times,num_aps)):\n",
        "            high = iclamp.amp\n",
        "            if print_out:\n",
        "                print('Fired {} nA'.format(iclamp.amp))\n",
        "        else:\n",
        "            if print_out:\n",
        "                print('No AP {} nA'.format(iclamp.amp))\n",
        "            low = iclamp.amp\n",
        "        iclamp.amp = (high+low)/2\n",
        "        if print_out:\n",
        "            print('Fine: Amp = {}, high = {}, low = {}'.format(iclamp.amp,high,low))\n",
        "        # fig.add_trace(go.Scatter(x=t_vec,y=V_vec,name='Vm',line=dict(color='rgb(0,0,0)')),secondary_y = False)\n",
        "        # fig.show()\n",
        "    print('Threshold to elicit > {} APs = {:.1f} nA ({:.1f} %% error)'.format(num_aps,iclamp.amp,thresh_err*100))\n",
        "    return high # returns upper range of window to ensure amplitude is above threshold"
      ]
    },
    {
      "cell_type": "markdown",
      "metadata": {
        "id": "i1lsOJeoV5dD"
      },
      "source": [
        "Use `find_threshold` below to find the threshold to elicit 2 APs with the same stimulus parameters as above."
      ]
    },
    {
      "cell_type": "code",
      "execution_count": null,
      "metadata": {
        "id": "Y-E3RYQ9V5dD"
      },
      "outputs": [],
      "source": [
        "# Current clamp settings\n",
        "iclamp.delay = 1 # ms\n",
        "iclamp.dur = 1 # ms\n",
        "iclamp.amp = 20 # nA\n",
        "\n",
        "iclamp2.delay = 20 # ms\n",
        "iclamp2.dur = 1 # ms\n",
        "iclamp2.amp = 20 # nA\n",
        "\n",
        "# Simulation settings\n",
        "h.v_init = -65 # mV - initial voltage of the model system\n",
        "h.dt = 0.0125  # ms - time step\n",
        "h.celsius = 6.3 # degrees celsius - temperature of simulation, set to room temperature\n",
        "h.tstop = 40 # ms - simulation duration\n",
        "\n",
        "# Call find_threshold here"
      ]
    },
    {
      "cell_type": "markdown",
      "metadata": {
        "id": "OQfovxs4V5dD"
      },
      "source": [
        "You should get a threshold of about $9.1 \\; nA$ with 2% error.\n",
        "\n",
        "Once you've verified the function is working, write a loop below to find the threshold over a range of interstimulus intervals from $4 \\; ms$ to $20 \\; ms$. In this case, a $4 \\; ms$ ISI means the second stimulus starts $4 \\; ms$ after the start of the first stimulus (or $2 \\; ms$ after the end of the first stimulus since it lasts $2 \\; ms$).\n",
        "\n",
        "Then, plot the threshold in $nA$ on the y-axis vs. the interstimulus interval in $ms$ on the x-axis."
      ]
    },
    {
      "cell_type": "code",
      "execution_count": null,
      "metadata": {
        "id": "LSiG9_hhV5dD"
      },
      "outputs": [],
      "source": [
        "ISI_vec = np.arange(2,20,1) # ISI values (ms)\n",
        "Ith_vec = [] # Threshold current values (nA)\n",
        "\n",
        "# Get thresholds\n",
        "for isi in ISI_vec:\n",
        "    iclamp2.delay = iclamp.delay + isi\n",
        "    Ith_vec.append(find_threshold(iclamp2,spike_times,num_aps=1))\n",
        "\n",
        "Ith_vec = np.array(Ith_vec)\n",
        "\n",
        "# Plot threshold vs. ISI\n",
        "fig = make_subplots(specs=[[{\"secondary_y\": True}]])\n",
        "fig.add_trace(go.Scatter(x=ISI_vec,y=Ith_vec,showlegend=False,line=dict(color='rgb(0,0,0)')),secondary_y = False)\n",
        "fig['layout']['xaxis']['title']='ISI (ms)'\n",
        "fig.update_yaxes(title_text=\"Ith (nA)\", secondary_y=False)\n",
        "fig.show();"
      ]
    },
    {
      "cell_type": "markdown",
      "metadata": {
        "id": "midhPe70V5dD"
      },
      "source": [
        "Use the coding cell below to plot the response at a few ISIs, defined by the `plot_ISI` vector. Try setting `iclamp2.amp` to different threshold amplitudes from your Threshold vs. ISI plot above, particularly the short ISIs (<6 ms) with high thresholds."
      ]
    },
    {
      "cell_type": "code",
      "execution_count": null,
      "metadata": {
        "id": "AjLNVdUmV5dD"
      },
      "outputs": [],
      "source": [
        "# Plot traces for examples\n",
        "# plot_ISI is index of ISIs to plot\n",
        "plot_ISI = [3,7,10] # plot these ISIs in ISI_vec, modify to whichever indices you want to plot, i.e. 3 plots ISI_vec[3] (the fourth ISI)\n",
        "for pi in plot_ISI:\n",
        "    iclamp2.delay = iclamp.delay + ISI_vec[pi]\n",
        "    iclamp2.amp = 20\n",
        "    h.run()\n",
        "    fig = plotV_and_gates(t_vec,V_vec,n_vec,m_vec,h_vec,\n",
        "                          title='I = {:.1f} nA. ISI = {} ms, threshold = {:.1f} nA'.format(iclamp2.amp,ISI_vec[pi],Ith_vec[pi]));"
      ]
    },
    {
      "cell_type": "markdown",
      "metadata": {
        "id": "LmEhkxYlV5dD"
      },
      "source": [
        "Now using the threshold vs. ISI plot and the recordings at 3 ISIs above, try answering the following questions:\n",
        "\n",
        "<font color='red'><b><i>Q10:</b></i> Can you identify the absolute vs. relative refractory periods? Hint: when looking at the lower range of ISIs, remember we set an upper bound for our `find_threshold` function.</font>"
      ]
    },
    {
      "cell_type": "markdown",
      "metadata": {
        "id": "bLmtqeYOV5dD"
      },
      "source": []
    },
    {
      "cell_type": "markdown",
      "metadata": {
        "id": "fackG732V5dD"
      },
      "source": [
        "<font color='red'><b><i>Q11:</b></i> In the activity traces, what do you notice is different about the `h` gating variable in the cases where the second AP successfully fires vs. the cases when it doesn't?</font>"
      ]
    },
    {
      "cell_type": "markdown",
      "metadata": {
        "id": "BDNbL2NHV5dD"
      },
      "source": []
    },
    {
      "cell_type": "markdown",
      "metadata": {
        "id": "4t9orWiWV5dD"
      },
      "source": [
        "## Analyzing firing behavior of the HH model\n",
        "\n",
        "Now let's analyze two aspects of the firing behavior exhibited by the HH model.\n",
        "\n",
        "First, in [Exercise 5](https://github.com/CompModNervSystem/CompModNervSys-LIFneuron), we plotted the frequency-input curve for the leaky integrate and fire neuron to characterize its excitability. The excitability of a neuron is critical for determining how it transforms inputs and generates outputs. Let's do the same here using the `spike_times` vector we created to track the number of action potentials fired in a simulation.\n",
        "\n",
        "Below, we plot the membrane potential vs. time for a few example currents amplitudes and then plot the F–I curve for a wider range of current amplitudes.\n",
        "\n",
        "Let's start by again reinitalizing the model and instrumentation."
      ]
    },
    {
      "cell_type": "code",
      "execution_count": null,
      "metadata": {
        "id": "NZEgo9dWV5dD"
      },
      "outputs": [],
      "source": [
        "# Recreate axon\n",
        "axon = None # Delete old sections\n",
        "for sec in h.allsec():\n",
        "    h.delete_section(sec=sec)\n",
        "\n",
        "axon = h.Section(name='axon')\n",
        "# Model geometry\n",
        "axon.diam = 500 # diameter in microns\n",
        "axon.L = 100 # length in microns\n",
        "axon.nseg = 1 # sets number of segments to 1\n",
        "# Model biophysics\n",
        "axon.insert('hh')\n",
        "# Model instrumentstion\n",
        "# Stimulation\n",
        "iclamp = h.IClamp(axon(0.5)) # add\n",
        "# Recordings\n",
        "t_vec = h.Vector().record(h._ref_t) # time vector\n",
        "V_vec = h.Vector().record(axon(0.5)._ref_v) # intracellular voltage (same as membrane potential in our case)\n",
        "# ** Gating variables ** (we'll use these one more time below)\n",
        "n_vec = h.Vector().record(axon(0.5)._ref_n_hh) # potassium activation gate (0-1)\n",
        "m_vec = h.Vector().record(axon(0.5)._ref_m_hh)  # sodium activation gate\n",
        "h_vec = h.Vector().record(axon(0.5)._ref_h_hh) # sodium inactivation gate\n",
        "netcon = h.NetCon(axon(0.5)._ref_v,None,sec=axon) # Use NetCon to monitor axon voltage\n",
        "netcon.threshold = 0 # set threshold to detect AP\n",
        "# Record spike times\n",
        "spike_times = h.Vector()\n",
        "netcon.record(spike_times) # pass the spiketimes vector to the record method of the netcon object we just created"
      ]
    },
    {
      "cell_type": "markdown",
      "metadata": {
        "id": "fKuHTIxgV5dD"
      },
      "source": [
        "Now let's apply a constant current stimulus at amplitudes of $5 \\; nA$, $10 \\; nA$, and $20 \\; nA$ and plot."
      ]
    },
    {
      "cell_type": "code",
      "execution_count": null,
      "metadata": {
        "id": "kQCrC1MqV5dD"
      },
      "outputs": [],
      "source": [
        "amp_vec = [] # enter current amplitudes here\n",
        "# Current clamp settings\n",
        "iclamp.delay = 1 # ms\n",
        "iclamp.dur = 100 # ms\n",
        "\n",
        "# Simulation settings\n",
        "h.v_init = -65 # mV - initial voltage of the model system\n",
        "h.dt = 0.0125  # ms - time step\n",
        "h.celsius = 6.3 # degrees celsius - temperature of simulation, set to room temperature\n",
        "h.tstop = 100 # ms - simulation duration\n",
        "\n",
        "V_vec_all = []\n",
        "for amp in amp_vec:\n",
        "    iclamp.amp = amp # nA\n",
        "    # Run\n",
        "    h.run()\n",
        "    V_vec_all.append(V_vec.to_python(np.zeros(len(V_vec))))  # save voltage vector for this simulation\n",
        "\n",
        "\n",
        "# Plot\n",
        "fig = make_subplots(rows=len(amp_vec),cols=1)\n",
        "for i, V_veci in enumerate(V_vec_all):\n",
        "    fig.add_trace(go.Scatter(x=t_vec,y=V_veci,name='I = {} nA'.format(amp_vec[i])),row=i+1,col=1)\n",
        "\n",
        "fig.update_layout(yaxis = dict(range=[-80,50]))\n",
        "fig['layout']['xaxis{}'.format(len(amp_vec))]['title']='time (ms)'\n",
        "fig.show()\n"
      ]
    },
    {
      "cell_type": "markdown",
      "metadata": {
        "id": "Ljne5M6pV5dE"
      },
      "source": [
        "You should see an increasing number of action potentials from the lowest to highest current amplitude.\n",
        "\n",
        "<font color='red'><b><i>Q12:</b></i> Based on the 100 ms we simulated above, what is the firing frequency in $Hz$ for each current intensity? What happens to the action potential shapes if you increase the highest current amplitude to $90 \\; nA$ or more?\n",
        "</font>"
      ]
    },
    {
      "cell_type": "markdown",
      "metadata": {
        "id": "itrl8ymXV5dE"
      },
      "source": []
    },
    {
      "cell_type": "markdown",
      "metadata": {
        "id": "DgVmtsq8V5dE"
      },
      "source": [
        "Now let's run these simulations for a wide range of currents and extract the frequency automatically. Generate a vector of $100$ current amplitudes from $0$ to $90 \\; nA$ and add plot to complete the code below."
      ]
    },
    {
      "cell_type": "code",
      "execution_count": null,
      "metadata": {
        "id": "Yk8yMNHuV5dE"
      },
      "outputs": [],
      "source": [
        "amp_vec = # create vector here\n",
        "\n",
        "# Current clamp settings\n",
        "iclamp.delay = 1 # ms\n",
        "iclamp.dur = 100 # ms\n",
        "\n",
        "# Simulation settings\n",
        "h.v_init = -65 # mV - initial voltage of the model system\n",
        "h.dt = 0.0125  # ms - time step\n",
        "h.celsius = 6.3 # degrees celsius - temperature of simulation, set to room temperature\n",
        "h.tstop = 100 # ms - simulation duration\n",
        "\n",
        "F_vec = []\n",
        "for amp in amp_vec:\n",
        "    iclamp.amp = amp # nA\n",
        "    # Run\n",
        "    h.run()\n",
        "    Fi =  # number of spikes divided by length of simulation in sec\n",
        "    F_vec.append(Fi)\n",
        "\n",
        "\n",
        "# Plotting code goes here\n",
        "\n",
        "\n",
        "axon(0.5).gnabar_hh = 0.12 # reset to default values\n",
        "axon(0.5).gkbar_hh = 0.036 # reset to default values"
      ]
    },
    {
      "cell_type": "markdown",
      "metadata": {
        "id": "SAiqqSC9V5dE"
      },
      "source": [
        "<font color='red'><b><i>Q13:</b></i> In the code block above, try adjusting the sodium (`axon(0.5).gnabar_hh`) and potassium peak conductances (`axon(0.5).gkbar_hh`) and regenerating the FI curve (it may help to overlay these curves on the same plot, but not required). How does increasing sodium peak conductance (while holding potassium's constant) alter the F-I curve? How does increasing potassium peak conductance (while holding sodium's constant) alter the F-I curve?\n",
        "</font>"
      ]
    },
    {
      "cell_type": "markdown",
      "metadata": {
        "id": "59SM2f2RV5dE"
      },
      "source": []
    },
    {
      "cell_type": "markdown",
      "metadata": {
        "id": "0MO1GCWpV5dE"
      },
      "source": [
        "Finally, an interesting and initially counterintuitive prediction of the HH model that is also observed in real neurons is the fact that hyperpolarizing currents can actually evoke action potentials.\n",
        "\n",
        "Below, set the current clamp to apply a $-5 \\; nA$ current pulse lasting $10 \\; ms$ that starts at $1 \\; ms$. Then, use `plotV_and_gates` to visualize the membrane potential and gating variables."
      ]
    },
    {
      "cell_type": "code",
      "execution_count": null,
      "metadata": {
        "id": "7O3n6AFYV5dE"
      },
      "outputs": [],
      "source": [
        "# Stimulation settings (iclamp)\n",
        "\n",
        "# Simulation settings\n",
        "h.v_init = -65 # mV - initial voltage of the model system\n",
        "h.tstop =  # ms - simulation duration\n",
        "\n",
        "# Run\n",
        "h.run()\n",
        "# Plot\n",
        "# Add plotting function here"
      ]
    },
    {
      "cell_type": "markdown",
      "metadata": {
        "id": "Y-bmsZlnV5dE"
      },
      "source": [
        "<font color='red'><b><i>Q14:</b></i> How can this phenomenon be explained in terms of the $h$ gates kinetics? Hint: Look at the difference in time constants between $\\tau_{m}$ and $\\tau_{h}$ in the lecture slides/readings. This is a challenging question, but do your best!\n",
        "</font>"
      ]
    },
    {
      "cell_type": "markdown",
      "metadata": {
        "id": "GjLLnwnFV5dE"
      },
      "source": []
    },
    {
      "cell_type": "markdown",
      "metadata": {
        "id": "KeuXpGshV5dE"
      },
      "source": [
        "# Reflections\n",
        "\n",
        "We've only sampled a few behaviors that emerge out of the complex, nonlinear interactions of membrane voltage and ionic currents within the Hodgkin-Huxley model; these behaviors predicted real aspects of neuronal excitability, all based on voltage clamp experiments in the squid giant axon. For example, from this exploration, it should be clear the AP threshold and likelihood of firing depends on the *history* of activity, rather than being defined by a fixed value. Neuronal firing properties (AP thresholds, F–I curves, refractory periods, response to hyperpolarization, etc.) vary widely between neurons depending on the assortment of voltage-gated ion channels they possess and their morphology, among other factors. Voltage-gated ion channels exhibit massive variety in composition, localization, gating kinetics, intracellular distribution, which can themselves be regulated dynamically by other intracellular processes. This diversity allows the nervous system to tune the excitability of individual neurons depending on the needs of the neural circuit in which they are embedded and the function that circuit performs. The exact mechanisms by which they are regulated and the emergent behaviors generated by specific combinations of ion channels found in neurons still constitutes a major area of inquiry within neuroscience research today. The basic theoretical tools and experimental methods have advanced significantly from the days of Hodgkin and Huxley, but these advances all build on the fundamental discoveries they made over 70 years ago."
      ]
    }
  ],
  "metadata": {
    "colab": {
      "provenance": [],
      "include_colab_link": true
    },
    "kernelspec": {
      "display_name": "cmns_env",
      "language": "python",
      "name": "python3"
    },
    "language_info": {
      "codemirror_mode": {
        "name": "ipython",
        "version": 3
      },
      "file_extension": ".py",
      "mimetype": "text/x-python",
      "name": "python",
      "nbconvert_exporter": "python",
      "pygments_lexer": "ipython3",
      "version": "3.9.16"
    },
    "vscode": {
      "interpreter": {
        "hash": "d0488761690764cced0e7b1e141a742f06ea2f3fa8f54952eb1b54a94bfd6a2a"
      }
    }
  },
  "nbformat": 4,
  "nbformat_minor": 0
}