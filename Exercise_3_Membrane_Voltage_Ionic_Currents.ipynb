{
  "cells": [
    {
      "cell_type": "markdown",
      "metadata": {
        "id": "view-in-github",
        "colab_type": "text"
      },
      "source": [
        "<a href=\"https://colab.research.google.com/github/penelopetir/24SBIOL74.03PT/blob/main/Exercise_3_Membrane_Voltage_Ionic_Currents.ipynb\" target=\"_parent\"><img src=\"https://colab.research.google.com/assets/colab-badge.svg\" alt=\"Open In Colab\"/></a>"
      ]
    },
    {
      "cell_type": "markdown",
      "metadata": {
        "id": "tSawaquoIBf9"
      },
      "source": [
        "# BIOL 74.03 (SP23): Computational Modeling of the Nervous System\n",
        "## Exercise 3: Calculating membrane voltage and ionic currents in cells\n",
        "\n",
        "### Exercise goals\n",
        "\n",
        "1) Calculate resistances and capacitances within cellular geometries.\n",
        "\n",
        "2) Get comfortable writing code implementing mathematical equations and handling units\n",
        "\n",
        "3) Use the Nernst equation to calculate ionic reversal potentials\n",
        "\n",
        "4) Use the Goldman equation to calcualte resting membrane potentials\n",
        "\n",
        "5) Analyze a simple RC circuit, a building block on the way to our first neuron model\n",
        "\n",
        "Work through the code below, running each cell, adding code where required, and making sure you understand the output. When you see questions with ***Q:*** preceding them, write your responses in text cells."
      ]
    },
    {
      "cell_type": "code",
      "execution_count": null,
      "metadata": {
        "id": "VWO7brUSssu7",
        "colab": {
          "base_uri": "https://localhost:8080/"
        },
        "outputId": "24d896b2-d7b1-46c4-f56e-6ee0c84f5e67"
      },
      "outputs": [
        {
          "output_type": "stream",
          "name": "stdout",
          "text": [
            "Cloning into 'CompModNervSys-NernstVm'...\n",
            "remote: Enumerating objects: 22, done.\u001b[K\n",
            "remote: Counting objects: 100% (22/22), done.\u001b[K\n",
            "remote: Compressing objects: 100% (17/17), done.\u001b[K\n",
            "remote: Total 22 (delta 5), reused 22 (delta 5), pack-reused 0\u001b[K\n",
            "Receiving objects: 100% (22/22), 149.88 KiB | 2.42 MiB/s, done.\n",
            "Resolving deltas: 100% (5/5), done.\n"
          ]
        }
      ],
      "source": [
        "!git clone https://github.com/CompModNervSystem/CompModNervSys-NernstVm.git # downloads repository into our Google colab session's file system"
      ]
    },
    {
      "cell_type": "markdown",
      "metadata": {
        "id": "_ZgiNXf0TprD"
      },
      "source": [
        "# Membrane resistance and capacitance\n",
        "\n",
        "Suppose we have a spherical cell with diameter $d$ and a membrane with thickness $t$. Recall that resistance $R$ is given by $R = \\rho L/A$, where $\\rho$ is the resistivity of the medium, $L$ is the length over which current travels, and $A$ is the cross-sectional area. Write a function that computes the membrane resistance given a membrane resistivity $\\rho_{m}$, which has units $\\Omega \\cdot cm$. Use this function to compute the membrane resistance of a cell in units of $M\\Omega$ with a $10 \\; \\mu m$ diameter, membrane thickness of $3 \\; nm$ (this refers to the insulating part of the lipid bilayer), and resistivity of $5 \\; G \\Omega cm$ ($1\\cdot10^{9} \\Omega cm$) and print the output.\n",
        "\n",
        "For a refresher on converting between metric units, see the chart below:\n",
        "\n",
        "<img src=\"https://raw.githubusercontent.com/CompModNervSystem/CompModNervSys-NernstVm/main/resources/metric-prefix-scale.jpeg\" alt=\"Metric Prefix scale\" width=\"643\" height =\"288\">"
      ]
    },
    {
      "cell_type": "code",
      "execution_count": 2,
      "metadata": {
        "id": "BW8ga1PnTprD",
        "colab": {
          "base_uri": "https://localhost:8080/",
          "height": 0
        },
        "outputId": "615df8de-9e20-4289-fb0a-f91f309a2573"
      },
      "outputs": [
        {
          "output_type": "stream",
          "name": "stdout",
          "text": [
            "Resistance = 477.5 MOhms\n"
          ]
        }
      ],
      "source": [
        "import numpy as np\n",
        "\n",
        "def calcRsphericalCell(rho_m,d,t):\n",
        "    #R = rho_m*length/cross_section\n",
        "    r = d/2\n",
        "    A = 4*np.pi*(r**2) #surface area of a sphere\n",
        "    return rho_m*t/A #this gives in Ohms\n",
        "\n",
        "rho_m = 5e9 # resistivity - Ohm*cm\n",
        "d = 10e-4 # diameter - cm\n",
        "t = 3e-7 # thickness - cm\n",
        "\n",
        "R = calcRsphericalCell(rho_m,d,t)\n",
        "print('Resistance = {:.1f} MOhms'.format(R/1e6)) #to convert to MOhm"
      ]
    },
    {
      "cell_type": "markdown",
      "metadata": {
        "id": "hY-5nwmETprE"
      },
      "source": [
        "<font color='red'> <b><i>Q1:</b></i> How would you convert this to the membrane's conductance?\n",
        "\n",
        "</font>"
      ]
    },
    {
      "cell_type": "markdown",
      "metadata": {
        "id": "E1C_mYsVTprE"
      },
      "source": [
        "I would convert this to conductance by taking the reciprocal; conductance and resistance are inverse."
      ]
    },
    {
      "cell_type": "code",
      "source": [
        "print(f\"The conductance is: {1/R} S\")"
      ],
      "metadata": {
        "colab": {
          "base_uri": "https://localhost:8080/",
          "height": 0
        },
        "id": "S3nGtn3boOyh",
        "outputId": "20f28785-c652-4da0-fc69-cde8378c87fd"
      },
      "execution_count": 5,
      "outputs": [
        {
          "output_type": "stream",
          "name": "stdout",
          "text": [
            "The conductance is: 2.094395102393195e-09S\n"
          ]
        }
      ]
    },
    {
      "cell_type": "markdown",
      "metadata": {
        "id": "jCHew4fuTprE"
      },
      "source": [
        "Now, write a similar function to calculate the membrane's capacitance. Recall the equation for capacitance of parallel plates is $C = \\epsilon A/L$, where $\\epsilon$ is the dielectric constant of the medium's between the plates, $A$ is the surface area, and $L$ is the distance between the plates. Use this function to compute the membrane capacitance of the same cell in units of $pF$ with $\\epsilon = 0.3 pF/cm$ and print the output."
      ]
    },
    {
      "cell_type": "code",
      "execution_count": 6,
      "metadata": {
        "id": "ND6VM5BqTprE",
        "colab": {
          "base_uri": "https://localhost:8080/",
          "height": 0
        },
        "outputId": "1bdab96c-5cf6-4c01-8c39-ecb78c6c2990"
      },
      "outputs": [
        {
          "output_type": "stream",
          "name": "stdout",
          "text": [
            "Capacitance = 3.142 pF\n"
          ]
        }
      ],
      "source": [
        "def calcCsphericalCell(eps_m,d,t):\n",
        "    A = 4*np.pi*((d/2)**2)#surface area of a sphere\n",
        "    return eps_m*A/t #This gives in farads\n",
        "\n",
        "eps_m = 0.3e-12 # dielectric constant - F/cm\n",
        "d = 10e-4 # diameter - cm\n",
        "t = 3e-7 # thickness - cm\n",
        "\n",
        "C = calcCsphericalCell(eps_m,d,t)\n",
        "print('Capacitance = {:.3f} pF'.format(C*1e12)) #want in pF, so multiply by 1e12"
      ]
    },
    {
      "cell_type": "markdown",
      "metadata": {
        "id": "u8-JwVbFTprE"
      },
      "source": [
        "Since the membrane thickness is essentially constant across all excitable cells, it's often easier to refer to the *specific membrane resistance*, $R_{m}$, which is the resistance per unit area, and the *specific membrane capacitance*, $C_{m}$, which is the capacitance per unit area. $R_{m}$ is just the numerator of our resistance equation, so $\\rho_{m}t$, and $C_{m}$ is obtained by combining the $\\epsilon/t$ terms from the capacitance equation.\n",
        "\n",
        "<font color='red'><b><i>Q2:</b></i> What values of $R_{m}$, in units of $\\Omega cm^{2}$, and $C_{m}$, in units of $\\mu F/cm^{2}$, do we get using the values given above? How does the cell's total membrane resistance $R$ and capacitance $C$ scale with the diameter and surface area of the cell?\n",
        "These are the quantities you're more likely to see reported in experimental and modeling literature and that we'll be using in our models.\n",
        "\n",
        "</font>"
      ]
    },
    {
      "cell_type": "code",
      "source": [
        "rho_m = 5e9 # resistivity - Ohm*cm\n",
        "eps_m = 0.3e-12 # dielectric constant - F/cm\n",
        "t = 3e-7 # thickness - cm\n",
        "\n",
        "Rm = rho_m*t\n",
        "Cm = (eps_m*1e6)/t #farads to micro-farads\n",
        "print(f\"Specific Resistance: {Rm} Ohms/cm^2\\nSpecific Capacitance: {Cm} uF/cm^2\")"
      ],
      "metadata": {
        "colab": {
          "base_uri": "https://localhost:8080/",
          "height": 0
        },
        "id": "AktGC57UYLnA",
        "outputId": "cd7e7267-75e9-471a-9768-ed1c346fbd53"
      },
      "execution_count": 7,
      "outputs": [
        {
          "output_type": "stream",
          "name": "stdout",
          "text": [
            "Specific Resistance: 1500.0 Ohms/cm^2\n",
            "Specific Capacitance: 1.0 uF/cm^2\n"
          ]
        }
      ]
    },
    {
      "cell_type": "markdown",
      "metadata": {
        "id": "OuXk29JSTprF"
      },
      "source": [
        "If this is a typical for the thickness of the cell membrane, then the specific resistance will be on the order of hundreds to thousands Ohms/cm^2 and capacitance will be in the 0-10 uF/cm^2 range (in terms of magnitudes it should be around here)"
      ]
    },
    {
      "cell_type": "markdown",
      "metadata": {
        "id": "DPQtzcTGTprF"
      },
      "source": [
        "Now, write new functions calculating the membrane resistance and capacitance, based on your functions above that instead take as input $R_{m}$ and $C_{m}$. Check that you get the same output as above. Be careful about units!"
      ]
    },
    {
      "cell_type": "code",
      "execution_count": 8,
      "metadata": {
        "id": "filjyaOkTprF"
      },
      "outputs": [],
      "source": [
        "# your new functions go here\n",
        "def calcRsphericalCell(R_m,d):\n",
        "    A = 4*np.pi*((d/2)**2)#surface area of a sphere\n",
        "    return R_m/A #this gives in Ohms\n",
        "\n",
        "def calcCsphericalCell(C_m,d):\n",
        "    A = 4*np.pi*((d/2)**2)#surface area of a sphere\n",
        "    return (C_m/1e6)*A #returns in F"
      ]
    },
    {
      "cell_type": "code",
      "source": [
        "# Call your functions and return R and C here\n",
        "rho_m = 5e9 # resistivity - Ohm*cm\n",
        "eps_m = 0.3e-12 # dielectric constant - F/cm\n",
        "d = 10e-4 # diameter - cm\n",
        "\n",
        "Rm = rho_m*t #ohm*cm^2\n",
        "Cm = (eps_m*1e6)/t #micro-farads/cm^2\n",
        "\n",
        "R = calcRsphericalCell(Rm,d)\n",
        "C = calcCsphericalCell(Cm,d)\n",
        "print('Resistance = {:.1f} MOhms'.format(R/1e6))\n",
        "print('Capacitance = {:.3f} pF'.format(C*1e12))"
      ],
      "metadata": {
        "colab": {
          "base_uri": "https://localhost:8080/",
          "height": 0
        },
        "id": "XcxX3ENKlFJL",
        "outputId": "5c756ffb-ac08-4778-dffc-033704a951a1"
      },
      "execution_count": 9,
      "outputs": [
        {
          "output_type": "stream",
          "name": "stdout",
          "text": [
            "Resistance = 477.5 MOhms\n",
            "Capacitance = 3.142 pF\n"
          ]
        }
      ]
    },
    {
      "cell_type": "markdown",
      "metadata": {
        "id": "pJ4lLdiUuX2q"
      },
      "source": [
        "# Calculating the Nernst potential\n",
        "\n",
        "Now let's calculate the Nernst equilibrium potential for some typical ion concentrations in mammalian neurons. Recall the Nernst equation is:\n",
        "\n",
        "$V_{m}^{eq} = RT/ZF \\ln([C]_e/[C]_i)$\n",
        "\n",
        "Where $R$ is the gas constant, $8.314 J/K \\cdot mole$, $T$ is temperature in $K$ (Kelvin), $Z$ is the ion's valence (don't forget the sign!), and $F$ is Faraday's constant, $96,485.3 C/mole$. $[C]_e$ and $[C]_i$ are the extracellular and intracellular concentrations.\n",
        "\n",
        "\n",
        "<font color='red'><b><i>Q3</b></i>: Do the units matter for concentration in this equation?\n",
        "\n",
        "</font>"
      ]
    },
    {
      "cell_type": "markdown",
      "metadata": {
        "id": "T0kWUFqBTprF"
      },
      "source": [
        "The units do not matter in this equation, as long as they are the same for each concentration. This is because a ratio is being taken, and then the log of that. The ratio causes the units to cancel out, and taking the log doesn't change units, so that portion is unitless."
      ]
    },
    {
      "cell_type": "markdown",
      "metadata": {
        "id": "BGTyw0GcTprF"
      },
      "source": [
        "| Ion            | Intracellular [mM] | Extracellular [mM] |\n",
        "| -------------- | ------------------ | ------------------ |\n",
        "| Potassium (K+) | 140 | 5 |\n",
        "| Sodium (Na+) | 15 | 145 |\n",
        "| Chloride (Cl-) | 5 | 110 |\n",
        "\n",
        "\n",
        "Write a single function that outputs the Nernst potential for a given ion. Then, using your function and the concentrations above, print the Nernst potentials (in $mV$) for potassium, sodium, and chloride for a neuron at body temperature ($37^{\\circ} C$). Just use 1 decimal place for outputting these values."
      ]
    },
    {
      "cell_type": "code",
      "execution_count": 10,
      "metadata": {
        "id": "3JY_e4xfTprF",
        "colab": {
          "base_uri": "https://localhost:8080/",
          "height": 0
        },
        "outputId": "308cddea-b866-422b-ac73-173fca243b9d"
      },
      "outputs": [
        {
          "output_type": "stream",
          "name": "stdout",
          "text": [
            "Ek = -89.0 mV, Ena = 60.6 mV, Ecl = -82.6 mV\n"
          ]
        }
      ],
      "source": [
        "def calcNernstIon(Z, C_e, C_i):\n",
        "    R = 8.314 #J/K*mol\n",
        "    T = 273 + 37 #K, body temp is 37C\n",
        "    F = 96485.3 #C/mol\n",
        "    return 1000*R*T*np.log(C_e/C_i)/(Z*F) #mV\n",
        "\n",
        "Ek = calcNernstIon(1, 5, 140)\n",
        "Ena = calcNernstIon(1, 145, 15)\n",
        "Ecl = calcNernstIon(-1, 110, 5)\n",
        "print('Ek = {:.1f} mV, Ena = {:.1f} mV, Ecl = {:.1f} mV'.format(Ek,Ena,Ecl))"
      ]
    },
    {
      "cell_type": "markdown",
      "metadata": {
        "id": "KUl9qQnNTprG"
      },
      "source": [
        "This gives us the reversal potential for individual ions, but we know from the Goldman equation that the actual rest potential is a function of the ion concentrations *and* their permeabilities in the membrane. The Goldman equation is given by:\n",
        "\n",
        "$V_{m}^{eq} = \\frac{RT}{F}\\ln \\left( \\frac{P_{K}[K]e + P_{Na}[Na]e + P_{Cl}[Cl]i}{P_{K}[K]i + P_{Na}[Na]i + P_{Cl}[Cl]e} \\right)$\n",
        "\n",
        "Write a function that uses the Goldman equation to compute the resting potential given a set of K, Na, and Cl- permeabilities and concentrations. Use it to calculate the resting potential given relative resting permeabilities $P_{K}:P_{Na}:P_{Cl}$ of $1:0.05:0.45$ at body temperature and print the output in $mV$."
      ]
    },
    {
      "cell_type": "code",
      "execution_count": 11,
      "metadata": {
        "id": "U_S_e-mVTprG",
        "colab": {
          "base_uri": "https://localhost:8080/",
          "height": 0
        },
        "outputId": "f836d207-886e-4923-c41c-b3c8f2a685e6"
      },
      "outputs": [
        {
          "output_type": "stream",
          "name": "stdout",
          "text": [
            "Resting Vm = -68.8 mV\n"
          ]
        }
      ],
      "source": [
        "def calcVmGoldman(P,C_e,C_i,Z):\n",
        "  #constants\n",
        "  R = 8.314 #J/K*mol\n",
        "  T = 273 + 37 #K, body temp is 37C\n",
        "  F = 96485.3 #C/mol\n",
        "\n",
        "  #initialize\n",
        "  num = 0\n",
        "  den = 0\n",
        "\n",
        "  #for-loop not as efficient but Goldman eqn probably doesn't have that many ions\n",
        "  for i in range(len(C_e)):\n",
        "    if Z[i] > 0: #positive ion\n",
        "      num += P[i]*C_e[i]\n",
        "      den += P[i]*C_i[i]\n",
        "    else: #negative ion\n",
        "      num += P[i]*C_i[i]\n",
        "      den += P[i]*C_e[i]\n",
        "\n",
        "  return 1000*R*T*np.log(num/den)/F #returns resting potential in millivolts\n",
        "\n",
        "P = [1,0.05,0.45]\n",
        "C_e = [5,145,110]\n",
        "C_i = [140,15,5]\n",
        "Z = [1,1,-1]\n",
        "Vm = calcVmGoldman(P,C_e,C_i, Z)\n",
        "\n",
        "print('Resting Vm = {:.1f} mV'.format(Vm))"
      ]
    },
    {
      "cell_type": "markdown",
      "metadata": {
        "id": "GtoewbemTprG"
      },
      "source": [
        "Now, suppose we were doing an experiment where we had some neurons in a dish and can control the concentration of ions in the extracellular solution. When mimicking the normal extracellular environment of neurons, this solution is sometimes called artificial cerebrospinal fluid (aCSF). It also includes other important things like buffers and energy sources (glucose) so our neurons are happy outside of the brain where they usually belong, but for our purposes, the ions are what matters.\n",
        "\n",
        "We want to see how resting membrane potential varies with extracellular potassium concentration, which we control in the aCSF. We can measure the intracellular voltage of the cell with a special electrode made out of a glass micropipette pulled to a fine tip less than 1 $\\mu m$ in diameter containing an electrolyte solution mimicking the cytosol and a wire that connects to a fancy voltmeter that amplifies small voltage or current signals. We'll talk more about this technique, called patch clamp electrophysiology, in class.\n",
        "\n",
        "Assuming your function worked, you can tell that the resting membrane potential is closest to the Nernst potential for potassium ($E_{k}$). If we did an experiment varying the extracellular potassium concentration and measuring resting membrane potential, what would we see? Use `matplotlib` (or your preferred plotting package) to plot the resting membrane potential vs. extracellular potassium concentration. Assume all the other intracellular and extracellular concentrations are the same as before and we heated up our neurons to body temperature. Use a log-scale on the x-axis. (Hint: your output should look like Figure 2.7 from Ch.2 of Purves, Neuroscience, the assigned reading)."
      ]
    },
    {
      "cell_type": "code",
      "execution_count": 12,
      "metadata": {
        "id": "jKDLpaM9TprG",
        "colab": {
          "base_uri": "https://localhost:8080/",
          "height": 476
        },
        "outputId": "a7b0200a-1dff-4fac-c1c6-a59e8a6bf813"
      },
      "outputs": [
        {
          "output_type": "execute_result",
          "data": {
            "text/plain": [
              "(-80.0, 10.0)"
            ]
          },
          "metadata": {},
          "execution_count": 12
        },
        {
          "output_type": "display_data",
          "data": {
            "text/plain": [
              "<Figure size 640x480 with 1 Axes>"
            ],
            "image/png": "[encoded data removed]"
          },
          "metadata": {}
        }
      ],
      "source": [
        "import matplotlib.pyplot as plt\n",
        "\n",
        "P = [1,0.05,0.45]\n",
        "C_i = [140,15,5]\n",
        "Z = [1,1,-1]\n",
        "Ce_k_vec = np.logspace(0,3,1000) # vector of concentrations in mM\n",
        "Vm_vec = [calcVmGoldman(P,[K_pot,145,110],C_i, Z) for K_pot in Ce_k_vec] # vector of resting membrane potentials (mV)]\n",
        "fig = plt.figure()\n",
        "ax = fig.add_subplot(111)\n",
        "ax.plot(Ce_k_vec,Vm_vec)\n",
        "#\n",
        "ax.grid(visible=True)\n",
        "ax.set_xscale('log')\n",
        "ax.set_xlabel('[K+]e (mM)')\n",
        "ax.set_ylabel('Vr (mV)')\n",
        "ax.set_xlim([2, 500])\n",
        "ax.set_ylim([-80,10])"
      ]
    },
    {
      "cell_type": "markdown",
      "metadata": {
        "id": "GJL0AaKeTprG"
      },
      "source": [
        "Let's say we wanted to do an experiment where we raised the resting membrane potential by $10 mV$ from the value you calculated earlier. What concentration of K+ should we use in the extracellular solution?\n",
        "\n",
        "You could do some math to work this out, or if you're lazy (like me), write some code to work it out for you. One way would be to just plug in a vector of finely sampled $[K+]_{e}$ (guesses) to the Goldman equation function you wrote and extract the resting membrane potential closest to our desired potential. Write a function below that does this using either this method or a method of your choosing. If you get stuck here, you can just use the \"guess and check\" method with your function and move on.\n"
      ]
    },
    {
      "cell_type": "code",
      "execution_count": 13,
      "metadata": {
        "id": "DO4UZfvmTprG",
        "colab": {
          "base_uri": "https://localhost:8080/",
          "height": 0
        },
        "outputId": "fc9a786e-08ef-41be-ef64-7cbc173ef2df"
      },
      "outputs": [
        {
          "output_type": "stream",
          "name": "stdout",
          "text": [
            "The new extracellular potassium concentration should be 11.56 mM\n",
            "New Potential: -58.79 mV\n"
          ]
        }
      ],
      "source": [
        "#can't be sure we'll have calculated exactly 10mV less\n",
        "#subtract and find the value closest to zero\n",
        "#in case positive and negative, take the absolute value\n",
        "r_new = Vm + 10\n",
        "index = np.abs(Vm_vec - r_new).argmin()\n",
        "print(f\"The new extracellular potassium concentration should be {Ce_k_vec[index]:.2f} mM\")\n",
        "print(f\"New Potential: {Vm_vec[index]:.2f} mV\")"
      ]
    },
    {
      "cell_type": "markdown",
      "metadata": {
        "id": "pdRlLKYOTprG"
      },
      "source": [
        "# First look at the RC circuit model\n",
        "\n",
        "Let's start playing with the most basic circuit model of a cell membrane, an RC circuit, shown below. In this case, we're modeling the membrane conductance as *passive*, i.e., ignoring the presence of nonlinear voltage gated ion channels. This turns out to be a decent model of neuronal membranes at voltages near equilibrium, since the nonlinear currents are still small. The circuit is composed of the membrane capacitance $C_{m}$ in parallel with a resistor $R$ representing an ionic conductance ($g=1/R$) with a reversal potential $E_{rev}$. This is sometimes referred to as the *leak* conductance and is simply the total conductance of the membrane's ion channels at rest lumped together and treated as passive (non-voltage dependent). Since we only have a single leak conductance, this is equivalent to the membrane resistance, $R_{m}$, which we'll use in the model equations below.\n",
        "\n",
        "\n",
        "<img src=\"https://raw.githubusercontent.com/CompModNervSystem/CompModNervSys-NernstVm/main/resources/RC_circuit.png\" alt=\"RC circuit schematic\" width=\"381\" height =\"254\">"
      ]
    },
    {
      "cell_type": "markdown",
      "metadata": {
        "id": "nNnFtDcCTprG"
      },
      "source": [
        "There's only one path for current to flow, so we know the capacitive current is always equal and opposite to the ionic current:\n",
        "\n",
        "$I_{C}(t) = -I_{ion}(t)$.\n",
        "\n",
        "Recall, the equation for current in a capacitor is $I_{C} = CdV/dt$ and the equation for current through an ion channel with a reversal potential is just the modified version of Ohm's law we introduced in class, $I_{ion} = (1/R)(V_{m} - E_{rev})$. Putting these together we have:\n",
        "\n",
        "$C_{m}\\frac{dV_{m}(t)}{dt} = -(V_{m}(t) - E_{rev})/R_{m}$.\n",
        "\n",
        "This is just a first order ordinary differential equation, which you may have seen before. I won't go through the derivation here, but here's the solution for $V_{m}$:\n",
        "\n",
        "$V_{m}(t) = (V_{0}-E_{rev})e^{-t/R_{m}C_{m}} + E_{rev}$,\n",
        "\n",
        "where $V_{0}$ is $V_{m}$ at $t=0$."
      ]
    },
    {
      "cell_type": "markdown",
      "metadata": {
        "id": "Jp6mG8maTprG"
      },
      "source": [
        "<font color='red'><b><i>Q4:</b></i> First, what is $V_{m}$ at equilibrium ($t \\rightarrow \\infty$) and why?\n",
        "\n",
        "</font>"
      ]
    },
    {
      "cell_type": "markdown",
      "metadata": {
        "id": "qvQZbhdkTprG"
      },
      "source": [
        "as t goes to infinity, the term (Vo-Erev)exp(-t/RmCm) goes to zero because the exponent goes to infinity and it is a negative exponent. Thus, as t goes to infinity, Vm(t) tends towards equaling Erev, the nernst potential. This makes sense, as the concentrations on either end of the membrane do not change much."
      ]
    },
    {
      "cell_type": "markdown",
      "metadata": {
        "id": "cDjadopVTprG"
      },
      "source": [
        "Now, let's use this model to simulate a simplified version of the experiment we conducted above where we wanted to increase the resting membrane potential by $10 mV$. Imagine we started with a reversal potential, in this case of our nonspecific leak conductance $E_{rev}$, of $-70 mV$, and we had a way of instantaneously changing the ion concentrations in the bath to generate our new reversal potential, $-60 mV$.\n",
        "\n",
        "Use the equation above and `numpy`/`matplotlib` to plot the voltage in $mV$ vs. time in $ms$. Use the $R$ and $C$ values we calculated at the beginning for a spherical cell for $R_{m}$ and $C_{m}$. Be careful about units!"
      ]
    },
    {
      "cell_type": "code",
      "execution_count": 24,
      "metadata": {
        "id": "8I-K34aCTprG",
        "colab": {
          "base_uri": "https://localhost:8080/",
          "height": 489
        },
        "outputId": "04cba3d6-ae2b-45d9-a755-9ba3539a479b"
      },
      "outputs": [
        {
          "output_type": "stream",
          "name": "stdout",
          "text": [
            "Tau: 0.0015\n"
          ]
        },
        {
          "output_type": "display_data",
          "data": {
            "text/plain": [
              "<Figure size 640x480 with 1 Axes>"
            ],
            "image/png": "[encoded data removed]"
          },
          "metadata": {}
        }
      ],
      "source": [
        "t = np.linspace(0,0.01,1000) # time in seconds\n",
        "E_rev = -60*np.ones(t.shape) #mV\n",
        "Vo = -70\n",
        "tau = R*C\n",
        "Vm = ((Vo-E_rev)*np.exp(-t/tau))+E_rev\n",
        "\n",
        "fig = plt.figure()\n",
        "ax = fig.add_subplot(111)\n",
        "ax.plot(t*1e3,Vm)\n",
        "ax.set_xlabel('time (ms)')\n",
        "ax.set_ylabel('Vm (mV)')\n",
        "ax.grid(visible=True)\n",
        "ax.set_title(\"Reversal Potential +10mV\")\n",
        "print(\"Tau: {}\".format(tau))"
      ]
    },
    {
      "cell_type": "markdown",
      "metadata": {
        "id": "V9z7eStsTprG"
      },
      "source": [
        "As you may know from a differential equations course, the product $RC$ in this equation is also known as the time constant $\\tau$. In our case, this is known as the *membrane time constant* and is given the special symbol $\\tau_{m}$. It has units of time ($\\Omega \\cdot F = sec$, or $k\\Omega \\cdot \\mu F = ms$). From inspecting the equation or your plot, you can see it's the time at which the voltage reaches 63.2% ($1-1/e$) of it's steady state value (or increases by 36.8%). In general, the time constant is a measure of how fast the membrane voltage can change in response to a stimulus (shorter times being faster). In our artificial situation, this was an instant change in bath concentrations, but later, this will be currents generated by synaptic inputs or electrical stimulation we apply.\n",
        "\n",
        "Below, try overlaying plots of the same manipulation if the time constant was doubled or halved."
      ]
    },
    {
      "cell_type": "code",
      "execution_count": 22,
      "metadata": {
        "id": "N6KiLoWlTprG",
        "colab": {
          "base_uri": "https://localhost:8080/",
          "height": 507
        },
        "outputId": "f4b01072-2b32-4e0a-803c-365fe367ab06"
      },
      "outputs": [
        {
          "output_type": "stream",
          "name": "stdout",
          "text": [
            "At time = 500ms, the reversal potential changes to equal -60mV\n",
            "\n"
          ]
        },
        {
          "output_type": "display_data",
          "data": {
            "text/plain": [
              "<Figure size 640x480 with 1 Axes>"
            ],
            "image/png": "[encoded data removed]"
          },
          "metadata": {}
        }
      ],
      "source": [
        "# Your code goes here\n",
        "t = np.linspace(0,0.02,1000) # time in seconds\n",
        "E_rev = -60*np.ones(t.shape) #mV\n",
        "tau1 = tau\n",
        "tau2 = tau*2\n",
        "tau3 = tau*0.5\n",
        "Vm1 = (Vo-E_rev)*np.exp(-t/tau1)+E_rev\n",
        "Vm2 = (Vo-E_rev)*np.exp(-t/tau2)+E_rev\n",
        "Vm3 = (Vo-E_rev)*np.exp(-t/tau3)+E_rev\n",
        "\n",
        "fig = plt.figure()\n",
        "ax = fig.add_subplot(111)\n",
        "ax.plot(t*1e3,Vm1,label='tau = {:.1f} ms'.format(tau1*1e3))\n",
        "ax.plot(t*1e3,Vm2,label='tau = {:.1f} ms'.format(tau2*1e3))\n",
        "ax.plot(t*1e3,Vm3,label='tau = {:.1f} ms'.format(tau3*1e3))\n",
        "ax.set_xlabel('time (ms)')\n",
        "ax.set_ylabel('Vm (mV)')\n",
        "ax.grid(visible=True)\n",
        "ax.legend()\n",
        "ax.set_title(\"Reversal Potential +10mV\")\n",
        "print(\"At time = 500ms, the reversal potential changes to equal -60mV\\n\")"
      ]
    },
    {
      "cell_type": "markdown",
      "metadata": {
        "id": "fgYQErJ-TprH"
      },
      "source": [
        "<font color='red'><b><i>Q5:</b></i> What physical variable could actually be changing to mediate this change in membrane time constant?\n",
        "\n",
        "</font>"
      ]
    },
    {
      "cell_type": "markdown",
      "metadata": {
        "id": "NG1BpZxUTprH"
      },
      "source": [
        "Tau is determined by the membrane resistivity and capacitance, which are dependent on the rho and epsilon values in addition to the thickness of the membrane and the diameter of the cell. Thus, the variables that could be changing are the diameter of the cell or the thickness of the membrane, since rho and epsilon are both constants."
      ]
    },
    {
      "cell_type": "markdown",
      "metadata": {
        "id": "cPmYX1y_TprH"
      },
      "source": [
        "Let's also take a look at the capacitive and ionic currents underlying the changes in $V_{m}$ for the first case we simulated. Plot the capacitive and ionic current as current densities in units of $pA/\\mu m2$ by dividing each current by the total membrane surface area ($A = 4\\pi(d/2)^2$, still using $d = 10 \\; \\mu m$).\n",
        "\n",
        "Since the capacitive current is given by $C_{m} dV_{m}/dt$, you could calculate the capacitive current numerically by taking the numerical *difference* of the voltage traces, but in this case, we can calculate the capacitive current analytically:\n",
        "\n",
        "$I_{C}(t) = C_{m}dV_{m}/dt = C_{m}\\frac{d}{dt}\\left((V_{0}-E_{rev})\\exp^{-t/R_{m}C_{m}} + E_{rev}\\right)$\n",
        "\n",
        "$I_{C}(t) = -\\frac{V_{0} - E_{rev}}{R_{m}}\\exp^{-t/R_{m}C_{m}}$"
      ]
    },
    {
      "cell_type": "code",
      "execution_count": 23,
      "metadata": {
        "id": "MrVR6bMQTprH",
        "colab": {
          "base_uri": "https://localhost:8080/",
          "height": 489
        },
        "outputId": "cb150883-9a0c-4288-cd4f-a4d3dd9b4b31"
      },
      "outputs": [
        {
          "output_type": "execute_result",
          "data": {
            "text/plain": [
              "Text(0.5, 1.0, 'Ionic and Capacitive Potentials in 10mV Change')"
            ]
          },
          "metadata": {},
          "execution_count": 23
        },
        {
          "output_type": "display_data",
          "data": {
            "text/plain": [
              "<Figure size 640x480 with 1 Axes>"
            ],
            "image/png": "[encoded data removed]"
          },
          "metadata": {}
        }
      ],
      "source": [
        "# Your code goes here\n",
        "V_diff = (Vo-E_rev)*1e-3 #to make units in V (from mV)\n",
        "Ic = -((V_diff)/R)*np.exp(-t/tau) #units would be in A\n",
        "d = 10*1e-6 #meters\n",
        "A = 4*np.pi*((d/2)**2) #surface area of a sphere, in m^2\n",
        "Ic_density = Ic/A #Amps per m^2 is same as pA/um^2\n",
        "\n",
        "#capacitive and ionic currents are the same, just opposite sign\n",
        "fig = plt.figure()\n",
        "ax = fig.add_subplot(111)\n",
        "ax.plot(t*1e3,Ic_density,label='Capacitive Current')\n",
        "ax.plot(t*1e3,-Ic_density,label='Ionic Current')\n",
        "ax.set_xlabel('time (ms)')\n",
        "ax.set_ylabel('I (pA/um^2)')\n",
        "ax.grid(visible=True)\n",
        "ax.legend()\n",
        "ax.set_title(\"Ionic and Capacitive Potentials in 10mV Change\")\n"
      ]
    },
    {
      "cell_type": "markdown",
      "metadata": {
        "id": "baTwIWoETprH"
      },
      "source": [
        "\n",
        "Finally, let's test a pretty major assumption we made when deciding to represent the Nernst potential as a fixed voltage source (battery). I mentioned in lecture that the ionic fluxes required to reach equilibrium, and more generally, that occur in the normal course of neural signaling don't significantly affect the bulk concentration of ions in the cell. Suppose we accomplished the $10 mV$ change by increasing the extracellular potassium concentration."
      ]
    },
    {
      "cell_type": "markdown",
      "metadata": {
        "id": "PjpzfxS6TprH"
      },
      "source": [
        "<font color='red'><b><i>Q6:</b></i> First, in your own words, explain the sequence of events leading from the initial condition ($V_{m} = -70 mV$) to the final steady state condition ($V_{m} = -60 mV$).\n",
        "\n",
        "</font>"
      ]
    },
    {
      "cell_type": "markdown",
      "metadata": {
        "id": "0KLNpUdOTprH"
      },
      "source": [
        "We start at the resting potential at -70mV which is determined by the concentrations of the ions. The reason that there is a voltage potential is because there are pumps and exchangers causing there to be gradients so that there is a difference in charge intracellularly and extracellularly. When we change the extracellular concentration of potassium, we create a charge imbalance, which the cell tries to remediate by allowing potassium to flow into the cell. Since we now have movement of ions and a difference in the concentrations, a new potential is reached. The flux of ions cannot happen all at once, and thus as we can see based on the time constant that there is a new resting potential being reached."
      ]
    },
    {
      "cell_type": "markdown",
      "metadata": {
        "id": "O7wOvk7ITprH"
      },
      "source": [
        "\n",
        "The excess charge from the movement of positive ions (let's use K+ for simplicity) is $Q=\\Delta V_{m}C_{m}$. We can convert this from electrical charge in Coulombs to the amount of ion particles in moles $N$ using Faraday's constant, $N = Q/F$. Fill in the empty portions of the calculations below."
      ]
    },
    {
      "cell_type": "code",
      "execution_count": null,
      "metadata": {
        "id": "cE3epsVuTprM",
        "colab": {
          "base_uri": "https://localhost:8080/"
        },
        "outputId": "8960eea4-6cca-42fd-bd3c-5300eb46dfb1"
      },
      "outputs": [
        {
          "output_type": "stream",
          "name": "stdout",
          "text": [
            "The intracellular concentration changed from 140.0 mM to 140.00062185638643 mM, 0.000444% change\n"
          ]
        }
      ],
      "source": [
        "deltaVm = 0.01 # V - change in membrane voltage\n",
        "Q = deltaVm*C # C - charge built up on membrane\n",
        "F = 96485.3 # C/mol - faraday's constant\n",
        "N = Q/F # number of charges moved\n",
        "d = 10e-6 # m\n",
        "\n",
        "Vol = (4/3)*np.pi*(d/2)**3 # m^3\n",
        "Vol = Vol*1e3 # convert to L (1000 L per cubic meter)\n",
        "Cki = 140e-3 # M - mols/liter - initial concentration\n",
        "Ntot = Cki*Vol # mols K - initial\n",
        "Cki2 = (Ntot+N)/Vol # M - mols/liter - final concentration\n",
        "\n",
        "print('The intracellular concentration changed from {} mM to {} mM, {:f}% change'.format(Cki*1e3,Cki2*1e3,100*(Cki2-Cki)/Cki))\n"
      ]
    },
    {
      "cell_type": "markdown",
      "metadata": {
        "id": "x8nhgAanTprM"
      },
      "source": [
        "<font color='red'><b><i>Q7:</b></i>\n",
        "Is our assumption that ionic concentrations aren't affected by the ionic currents okay and why? Under what conditions is it a better or worse assumption,\n",
        "or in other words, can you think of scenarios where it would be more or less safe?\n",
        "\n",
        "</font>"
      ]
    },
    {
      "cell_type": "markdown",
      "metadata": {
        "id": "-SP--7GsTprM"
      },
      "source": [
        "According to these calculations, the currents are so small that there isn't much change in voltage. This makes sense; we calculated earlier that there are really tiny currents that still show a decent change in voltage.\n",
        "\n",
        "It seems to be a good assumption for these smaller changes in voltage (subthreshold changes), as there isn't a substantial amount of current. Looking ahead, I know that action potentials create really sharp voltage differences, and it is that initial voltage difference as seen in the graphs above (I made the voltage change to be slightly after t = 0 so that I could see the effects there) where the current peaks as well. Maybe then the current will be more significant and cause concentration changes.\n",
        "\n",
        "Another scenario where this could change is if we had smaller cells. I'm not sure physiologically if there is support for this, but the larger the cell is the more resistant I would think that it is to change its concentration based on ion flow. This is because it would need more ions to change the concentration because there is more volume. We might work with comparatively large cells, so it would be safe to assume that the concentration does not change much."
      ]
    }
  ],
  "metadata": {
    "colab": {
      "provenance": [],
      "include_colab_link": true
    },
    "kernelspec": {
      "display_name": "Python 3",
      "name": "python3"
    },
    "language_info": {
      "codemirror_mode": {
        "name": "ipython",
        "version": 3
      },
      "file_extension": ".py",
      "mimetype": "text/x-python",
      "name": "python",
      "nbconvert_exporter": "python",
      "pygments_lexer": "ipython3",
      "version": "3.9.16"
    }
  },
  "nbformat": 4,
  "nbformat_minor": 0
}